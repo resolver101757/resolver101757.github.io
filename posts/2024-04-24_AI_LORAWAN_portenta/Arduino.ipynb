{
  "cells": [
    {
      "cell_type": "raw",
      "metadata": {},
      "source": [
        "---\n",
        "title: 'Integrating AI with LoRaWAN: A guide using edge impulse'\n",
        "author: Alex Kelly\n",
        "date: '2021-06-17'\n",
        "draft: false\n",
        "---"
      ],
      "id": "d3c2e59c"
    },
    {
      "cell_type": "markdown",
      "metadata": {},
      "source": [
        "# How to Recognize Objects with an Arduino and AI\n",
        "\n",
        "In this short video, we demonstrate how to use an **Arduino Pretender Laura Board**, equipped with a camera and AI capabilities. We'll take pictures of bulldog clips to see if we can recognize them, as well as what's not a bulldog clip.\n",
        "\n",
        "<iframe width=\"560\" height=\"315\" src=\"https://www.youtube.com/embed/I7YcHTYTmqo?start=0\" title=\"YouTube video player\" frameborder=\"0\" allow=\"accelerometer; autoplay; clipboard-write; encrypted-media; gyroscope; picture-in-picture\" allowfullscreen></iframe>\n",
        "\n",
        "\n",
        "## Using OpenMV and Edge Impulse\n",
        "\n",
        "To accomplish this, we use the **OpenMV** software to capture images. These images are then uploaded to a service called **Edge Impulse**, where we'll generate an AI model.\n",
        "\n",
        "### Connecting to the Camera\n",
        "\n",
        "First, we connect to the camera and start the script in OpenMV, which involves importing sensor image libraries and the time library. The script will take pictures intermittently, and we can create folders for the images directly from the OpenMV interface.\n",
        "\n",
        "#### Creating Data Sets\n",
        "\n",
        "We create a folder named `bulldog clip` and another one for non-bulldog items. This organization aids in training our model by distinguishing between the two categories.\n",
        "\n",
        "### Training with Edge Impulse\n",
        "\n",
        "After gathering our dataset, we upload it to Edge Impulse and start working on our AI model.\n",
        "\n",
        "1. **Project Creation:** We create a new project named \"Bulldog Clips.\"\n",
        "2. **Data Upload:** We upload our images, specifying how many will be used for training versus testing.\n",
        "3. **Model Training:** Through Edge Impulse's intuitive interface, we select processing blocks and learning blocks suitable for our data, focusing on image recognition.\n",
        "4. **Generating Features:** Edge Impulse processes the images, preparing them for AI model training.\n",
        "5. **Model Evaluation:** After training, we evaluate the model's accuracy and loss, making adjustments as necessary.\n",
        "\n",
        "### Deployment\n",
        "\n",
        "Once satisfied with the model, we deploy it back to the Arduino Pretender. This involves exporting the model from Edge Impulse and loading it onto our device.\n",
        "\n",
        "## Running the Model\n",
        "\n",
        "With the model deployed, we run it on the Arduino Pretender, observing its predictions. We test it with various objects, noting how it distinguishes between bulldog clips and other items with impressive accuracy.\n",
        "\n",
        "### Integrating with LoRa\n",
        "\n",
        "Lastly, we expand the script to send predictions over a LoRa network, demonstrating a practical application of our AI-powered device. This script, along with detailed instructions, is available on our GitHub page.\n",
        "\n",
        "Thank you for following along with this tutorial on object recognition with Arduino and AI. We hope it inspires you to create your own AI-powered projects."
      ],
      "id": "16dbae16"
    }
  ],
  "metadata": {
    "kernelspec": {
      "name": "python3",
      "language": "python",
      "display_name": "Python 3 (ipykernel)"
    }
  },
  "nbformat": 4,
  "nbformat_minor": 5
}