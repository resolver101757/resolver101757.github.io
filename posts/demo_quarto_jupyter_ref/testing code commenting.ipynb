{
 "cells": [
  {
   "cell_type": "markdown",
   "metadata": {},
   "source": [
    "---\n",
    "title: \"Adam optimizer with annealing learning rate\"\n",
    "author: \"Alex Kelly\"\n",
    "date: \"2023-12-28\"\n",
    "format:\n",
    "  html:\n",
    "    code-fold: false\n",
    "    toc : true\n",
    "    numbered-sections : true\n",
    "jupyter : python3\n",
    "draft : True\n",
    "---"
   ]
  },
  {
   "cell_type": "code",
   "execution_count": null,
   "metadata": {},
   "outputs": [],
   "source": [
    "print(\"this is a test\") # <1> \n",
    "print(\"this is a test2\") # <2> "
   ]
  },
  {
   "cell_type": "markdown",
   "metadata": {},
   "source": [
    "1. this is a interesting line of code\n",
    "2. this is a interesting line of code"
   ]
  },
  {
   "cell_type": "code",
   "execution_count": null,
   "metadata": {},
   "outputs": [],
   "source": []
  }
 ],
 "metadata": {
  "language_info": {
   "name": "python"
  }
 },
 "nbformat": 4,
 "nbformat_minor": 2
}
